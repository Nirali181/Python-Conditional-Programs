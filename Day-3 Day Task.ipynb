{
 "cells": [
  {
   "cell_type": "markdown",
   "metadata": {},
   "source": [
    "# Calculate Average OF 5 Numbers"
   ]
  },
  {
   "cell_type": "code",
   "execution_count": 9,
   "metadata": {},
   "outputs": [
    {
     "name": "stdout",
     "output_type": "stream",
     "text": [
      "Enter num 1 : 10\n",
      "Enter num 2 : 20\n",
      "Enter num 3 : 30\n",
      "Enter num 4 : 40\n",
      "Enter num 5 : 50\n",
      "The avg is 30.0\n"
     ]
    }
   ],
   "source": [
    "num1 = int(input(\"Enter num 1 : \"))\n",
    "num2 = int(input(\"Enter num 2 : \"))\n",
    "num3 = int(input(\"Enter num 3 : \"))\n",
    "num4 = int(input(\"Enter num 4 : \"))\n",
    "num5 = int(input(\"Enter num 5 : \"))\n",
    "avg = (num1 + num2 + num3 + num4 + num5)/5\n",
    "print(\"The avg is\",avg)"
   ]
  },
  {
   "cell_type": "markdown",
   "metadata": {},
   "source": [
    "# Check Whether Number Is Odd or Even"
   ]
  },
  {
   "cell_type": "code",
   "execution_count": 12,
   "metadata": {},
   "outputs": [
    {
     "name": "stdout",
     "output_type": "stream",
     "text": [
      "Enter the number : 2\n",
      "The number is even\n"
     ]
    }
   ],
   "source": [
    "n1=int(input(\"Enter the number : \"))\n",
    "if n1%2==0:\n",
    "    print(\"The number is even\")\n",
    "else:\n",
    "    print(\"The number is odd\")"
   ]
  },
  {
   "cell_type": "markdown",
   "metadata": {},
   "source": [
    "# Check The Year Whether It IS Leap Year Or Not"
   ]
  },
  {
   "cell_type": "code",
   "execution_count": 19,
   "metadata": {},
   "outputs": [
    {
     "name": "stdout",
     "output_type": "stream",
     "text": [
      "Enter the Year2000\n",
      "2000 it is a leap year\n"
     ]
    }
   ],
   "source": [
    "year=int(input(\"Enter the Year\"))\n",
    "if (year%4)==0:\n",
    "    if(year%100)==0:\n",
    "        if(year%400)==0:\n",
    "            print(\"{0} it is a leap year\".format(year))\n",
    "        else:\n",
    "            print(\"{0} it is not a leap year\".format(year))\n",
    "    else:\n",
    "        print(\"{0} it is a leap year\".format(year))\n",
    "else:\n",
    "    print(\"{0} it is not a leap year\".format(year))\n",
    "    \n"
   ]
  },
  {
   "cell_type": "markdown",
   "metadata": {},
   "source": [
    "# Check Whether This number is Negative Zero Or Positive "
   ]
  },
  {
   "cell_type": "code",
   "execution_count": 25,
   "metadata": {},
   "outputs": [
    {
     "name": "stdout",
     "output_type": "stream",
     "text": [
      "Enter the number : -70\n",
      "This is a negative number\n"
     ]
    }
   ],
   "source": [
    " n2=int(input(\"Enter the number : \"))\n",
    "if n2>0:\n",
    "    print(\"This is a positive number\")\n",
    "elif n2<0:\n",
    "    print(\"This is a negative number\")\n",
    "else:\n",
    "    print(\"This is a zero\")\n",
    "        "
   ]
  },
  {
   "cell_type": "markdown",
   "metadata": {},
   "source": [
    "# Take 2 Numbers and Display The Greatest Number "
   ]
  },
  {
   "cell_type": "code",
   "execution_count": 26,
   "metadata": {},
   "outputs": [
    {
     "name": "stdout",
     "output_type": "stream",
     "text": [
      "Enter the first number : 6\n",
      "Enter the first number : 7\n",
      "7\n"
     ]
    }
   ],
   "source": [
    "n1=int(input(\"Enter the first number : \"))\n",
    "n2=int(input(\"Enter the first number : \"))\n",
    "if n1>n2:\n",
    "    print(n1)\n",
    "elif n1<n2:\n",
    "    print(n2)\n",
    "elif n1==n2:\n",
    "    print(n1)\n",
    "    "
   ]
  },
  {
   "cell_type": "markdown",
   "metadata": {},
   "source": [
    "# Find the factorial of a number"
   ]
  },
  {
   "cell_type": "code",
   "execution_count": 34,
   "metadata": {},
   "outputs": [
    {
     "name": "stdout",
     "output_type": "stream",
     "text": [
      "Enter the first number : 3\n",
      "factorial is :  6\n"
     ]
    }
   ],
   "source": [
    "n1=int(input(\"Enter the first number : \"))\n",
    "       \n",
    "factorial = 1\n",
    "       \n",
    "if n1<0:\n",
    "    print(\"factorial is not possible\")\n",
    "elif n1==0:\n",
    "    print(\"factorial is 1\")\n",
    "else:\n",
    "    for i in range(2,n1+1):\n",
    "           factorial*=i\n",
    "    print(\"factorial is : \" ,factorial)\n",
    "       "
   ]
  },
  {
   "cell_type": "markdown",
   "metadata": {},
   "source": [
    "# Swapping two numbers using third variable"
   ]
  },
  {
   "cell_type": "code",
   "execution_count": 36,
   "metadata": {},
   "outputs": [
    {
     "name": "stdout",
     "output_type": "stream",
     "text": [
      "Enter the first number : 100\n",
      "Enter the first number : 500\n",
      "500\n",
      "100\n"
     ]
    }
   ],
   "source": [
    "n1=int(input(\"Enter the first number : \"))\n",
    "n2=int(input(\"Enter the second number : \"))\n",
    "n3=n1\n",
    "n1=n2\n",
    "n2=n3\n",
    "print(n1)\n",
    "print(n2)"
   ]
  },
  {
   "cell_type": "markdown",
   "metadata": {},
   "source": [
    "# Take two numbers and find the smallest number"
   ]
  },
  {
   "cell_type": "code",
   "execution_count": 37,
   "metadata": {},
   "outputs": [
    {
     "name": "stdout",
     "output_type": "stream",
     "text": [
      "Enter the first number : 900\n",
      "Enter the second number : 40000\n",
      "900\n"
     ]
    }
   ],
   "source": [
    "n1=int(input(\"Enter the first number : \"))\n",
    "n2=int(input(\"Enter the second number : \"))\n",
    "if n1<n2:\n",
    "    print(n1)\n",
    "else:\n",
    "    print(n2)"
   ]
  },
  {
   "cell_type": "markdown",
   "metadata": {},
   "source": [
    "# Take a number if a number is less than 100 or not if it is then check if it is odd or even"
   ]
  },
  {
   "cell_type": "code",
   "execution_count": 41,
   "metadata": {},
   "outputs": [
    {
     "name": "stdout",
     "output_type": "stream",
     "text": [
      "Enter the first number : 23\n",
      "it is odd number\n"
     ]
    }
   ],
   "source": [
    "n1=int(input(\"Enter the first number : \"))\n",
    "if n1<100:\n",
    "    if n1%2==0:\n",
    "        print(\"it is even number\")\n",
    "    else:\n",
    "        print(\"it is odd number\")\n",
    "else:\n",
    "    print(\"Enter valid number\")"
   ]
  },
  {
   "cell_type": "markdown",
   "metadata": {},
   "source": [
    "# Take a number to print the square of a number if it is less than 10"
   ]
  },
  {
   "cell_type": "code",
   "execution_count": 43,
   "metadata": {},
   "outputs": [
    {
     "name": "stdout",
     "output_type": "stream",
     "text": [
      "Enter the first number : 9\n",
      "81\n"
     ]
    }
   ],
   "source": [
    "n1=int(input(\"Enter the first number : \"))\n",
    "if n1<10:\n",
    "    print(n1*n1)\n",
    "else:\n",
    "    print(\"Enter number which is less than 10 to get a square\")"
   ]
  },
  {
   "cell_type": "markdown",
   "metadata": {},
   "source": [
    "# Take a number and check whether it is zero positive or negative using nested IF.....ELSE statement"
   ]
  },
  {
   "cell_type": "code",
   "execution_count": 44,
   "metadata": {},
   "outputs": [
    {
     "name": "stdout",
     "output_type": "stream",
     "text": [
      "Enter the first number : 78\n",
      "Positive number\n"
     ]
    }
   ],
   "source": [
    "n1=int(input(\"Enter the first number : \"))\n",
    "if n1>=0:\n",
    "    if n1==0:\n",
    "        print(\"Zero\")\n",
    "    else:\n",
    "        print(\"Positive number\")\n",
    "else:\n",
    "    print(\"Negative number\")\n",
    "\n",
    "    "
   ]
  },
  {
   "cell_type": "markdown",
   "metadata": {},
   "source": [
    "# Take 3 Numbers and find greatest numebr using  IF....ELSE statement"
   ]
  },
  {
   "cell_type": "code",
   "execution_count": 45,
   "metadata": {},
   "outputs": [
    {
     "name": "stdout",
     "output_type": "stream",
     "text": [
      "Enter the first number : 100\n",
      "Enter the second number : 500\n",
      "Enter the third number : 1000\n",
      "Greatest number is  1000\n"
     ]
    }
   ],
   "source": [
    "n1=int(input(\"Enter the first number : \"))\n",
    "\n",
    "n2=int(input(\"Enter the second number : \"))\n",
    "\n",
    "n3=int(input(\"Enter the third number : \"))\n",
    "\n",
    "if n1>n2 and n1>n3:\n",
    "    print(\"Greatest number is\", n1)\n",
    "elif n2>n1 and n2>n3:\n",
    "    print(\"Greatest number is \",n2)\n",
    "else:\n",
    "    print(\"Greatest number is \",n3)"
   ]
  },
  {
   "cell_type": "markdown",
   "metadata": {},
   "source": [
    "# Take 3 numbers and find the smallest number using logical operator"
   ]
  },
  {
   "cell_type": "code",
   "execution_count": 46,
   "metadata": {},
   "outputs": [
    {
     "name": "stdout",
     "output_type": "stream",
     "text": [
      "Enter the first number : 25\n",
      "Enter the second number : 50\n",
      "Enter the third number : 75\n",
      "The smallest Number is :  25\n"
     ]
    }
   ],
   "source": [
    "n1=int(input(\"Enter the first number : \"))\n",
    "\n",
    "n2=int(input(\"Enter the second number : \"))\n",
    "\n",
    "n3=int(input(\"Enter the third number : \"))\n",
    "\n",
    "if n1<n2 and n1<n3:\n",
    "    print(\"The smallest Number is : \" ,n1)\n",
    "elif n2>n1 and n2>n3:\n",
    "    print(\"Smallest number is : \" ,n2)\n",
    "else:\n",
    "    print(\"Smallest number is : \" ,n3)\n"
   ]
  },
  {
   "cell_type": "markdown",
   "metadata": {},
   "source": [
    "# Swapping two numbers without using third variable\n"
   ]
  },
  {
   "cell_type": "code",
   "execution_count": 49,
   "metadata": {},
   "outputs": [
    {
     "name": "stdout",
     "output_type": "stream",
     "text": [
      "Enter the first number : 60\n",
      "Enter the second number : 1000\n",
      "After Swaping\n",
      "n1 is :  1000\n",
      "n2 is :  60\n"
     ]
    }
   ],
   "source": [
    "n1=int(input(\"Enter the first number : \"))\n",
    "n2=int(input(\"Enter the second number : \"))\n",
    "n1,n2=n2,n1\n",
    "print(\"After Swaping\")\n",
    "print(\"n1 is : \" ,n1)\n",
    "print(\"n2 is : \" ,n2)"
   ]
  },
  {
   "cell_type": "markdown",
   "metadata": {},
   "source": [
    "# Example of break statement"
   ]
  },
  {
   "cell_type": "code",
   "execution_count": 7,
   "metadata": {},
   "outputs": [
    {
     "name": "stdout",
     "output_type": "stream",
     "text": [
      "0\n",
      "1\n",
      "2\n",
      "3\n",
      "4\n"
     ]
    }
   ],
   "source": [
    "i=0\n",
    "while i<10:\n",
    "    print(i)\n",
    "    i+=1\n",
    "    if i>=5:\n",
    "        break\n",
    "    "
   ]
  },
  {
   "cell_type": "markdown",
   "metadata": {},
   "source": [
    "# Example of continue statement"
   ]
  },
  {
   "cell_type": "code",
   "execution_count": 8,
   "metadata": {},
   "outputs": [
    {
     "name": "stdout",
     "output_type": "stream",
     "text": [
      "1\n",
      "3\n",
      "5\n",
      "7\n",
      "9\n"
     ]
    }
   ],
   "source": [
    "for x in range(10):\n",
    "    if x%2==0:\n",
    "        continue\n",
    "    print(x)"
   ]
  },
  {
   "cell_type": "markdown",
   "metadata": {},
   "source": [
    "# Example of while statement"
   ]
  },
  {
   "cell_type": "code",
   "execution_count": 16,
   "metadata": {},
   "outputs": [
    {
     "name": "stdout",
     "output_type": "stream",
     "text": [
      "0\n",
      "2\n",
      "4\n",
      "6\n",
      "8\n"
     ]
    }
   ],
   "source": [
    "i=0\n",
    "while i<10:\n",
    "    if i%2==0:\n",
    "        print(i)\n",
    "    i=i+1\n",
    "    "
   ]
  },
  {
   "cell_type": "code",
   "execution_count": 6,
   "metadata": {},
   "outputs": [],
   "source": []
  },
  {
   "cell_type": "code",
   "execution_count": null,
   "metadata": {},
   "outputs": [],
   "source": []
  },
  {
   "cell_type": "code",
   "execution_count": null,
   "metadata": {},
   "outputs": [],
   "source": []
  }
 ],
 "metadata": {
  "kernelspec": {
   "display_name": "Python 3",
   "language": "python",
   "name": "python3"
  },
  "language_info": {
   "codemirror_mode": {
    "name": "ipython",
    "version": 3
   },
   "file_extension": ".py",
   "mimetype": "text/x-python",
   "name": "python",
   "nbconvert_exporter": "python",
   "pygments_lexer": "ipython3",
   "version": "3.7.4"
  }
 },
 "nbformat": 4,
 "nbformat_minor": 2
}
